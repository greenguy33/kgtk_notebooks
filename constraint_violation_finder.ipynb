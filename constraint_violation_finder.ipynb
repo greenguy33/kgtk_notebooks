{
 "cells": [
  {
   "cell_type": "markdown",
   "id": "a2eca2d1",
   "metadata": {},
   "source": [
    "<p>Wikidata Constraint Violation Finder</p>\n",
    "\n",
    "This notebook generates the files necessary to perform analysis on Wikidata constraint violations on a per-property level."
   ]
  },
  {
   "cell_type": "code",
   "execution_count": null,
   "id": "d3a6d9a3",
   "metadata": {
    "scrolled": false
   },
   "outputs": [],
   "source": [
    "# Split items file into per-property files. Only needs to be run once. Takes some time.\n",
    "\n",
    "import gzip\n",
    "propFileDict = {}\n",
    "with gzip.open('claims.wikibase-item.tsv.gz','r') as fin: \n",
    "    headerLine = next(fin).decode(\"utf-8\")\n",
    "    tstCount = 0\n",
    "    for line in fin:\n",
    "        line = line.decode(\"utf-8\")\n",
    "        lineP = line.rstrip().split(\"\\t\")\n",
    "        if \"external-id\" in lineP[-1]:\n",
    "            continue\n",
    "        prop = lineP[1]\n",
    "        if prop not in propFileDict:\n",
    "            propFileDict[prop] = open(\"data/propertiesSplit_Final/claims.\"+str(prop)+\".tsv\",\"w\")\n",
    "            propFileDict[prop].write(headerLine)\n",
    "        propFileDict[prop].write(line)\n",
    "        tstCount += 1\n",
    "        if tstCount == 1000000:\n",
    "            tstCount = 0\n",
    "    for file1 in propFileDict.values():\n",
    "        file1.close()"
   ]
  },
  {
   "cell_type": "code",
   "execution_count": 1,
   "id": "3d203d4d",
   "metadata": {},
   "outputs": [],
   "source": [
    "import os\n",
    "import csv\n",
    "import numpy as np\n",
    "import pandas as pd\n",
    "\n",
    "from kgtk.configure_kgtk_notebooks import ConfigureKGTK\n",
    "from kgtk.functions import kgtk, kypher"
   ]
  },
  {
   "cell_type": "code",
   "execution_count": 2,
   "id": "02a7f678",
   "metadata": {},
   "outputs": [
    {
     "name": "stdout",
     "output_type": "stream",
     "text": [
      "User home: /home/jovyan\n",
      "Current dir: /out/kgtk_notebooks\n",
      "KGTK dir: /out\n",
      "Use-cases dir: /out/use-cases\n",
      "kypher: kgtk query --graph-cache output/p161_notebook/temp.p161_notebook/wikidata.sqlite3.db\n",
      "GRAPH: data\n",
      "OUT: output/p161_notebook\n",
      "KGTK_GRAPH_CACHE: output/p161_notebook/temp.p161_notebook/wikidata.sqlite3.db\n",
      "STORE: output/p161_notebook/temp.p161_notebook/wikidata.sqlite3.db\n",
      "KGTK_LABEL_FILE: data/labels.en.tsv.gz\n",
      "TEMP: output/p161_notebook/temp.p161_notebook\n",
      "kgtk: kgtk\n",
      "EXAMPLES_DIR: /out/examples\n",
      "KGTK_OPTION_DEBUG: false\n",
      "USE_CASES_DIR: /out/use-cases\n",
      "derived.isa.tsv.gz: derived.isa.tsv.gz\n",
      "derived.P31.tsv.gz: derived.P31.tsv.gz\n",
      "derived.P279star.tsv.gz: derived.P279star.tsv.gz\n",
      "derived.P279.tsv.gz: derived.P279.tsv.gz\n"
     ]
    }
   ],
   "source": [
    "input_path = \"data\"\n",
    "output_path = \"output\"\n",
    "project_name = \"p161_notebook\"\n",
    "\n",
    "# set property ID here\n",
    "property_id = \"P39\"\n",
    "# hardcode constraint classes here. Change to retrieve this with SPARQL or other means in the future.\n",
    "subject_classes = \"\"\"[\"Q5\", \"Q21070598\", \"Q95074\", \"Q4271324\", \"Q64520857\", \"Q64643615\", \"Q75855169\", \"Q146\"]\"\"\"\n",
    "object_classes = \"\"\"[\"Q4164871\", \"Q21451536\", \"Q355567\", \"Q3687335\", \"Q7810129\", \"Q81752537\", \"Q294414\", \"Q11452125\"]\"\"\"\n",
    "# P161 classes\n",
    "#subject_classes = \"\"\"[\"Q1185607\", \"Q15267437\", \"Q35140\", \"Q386724\", \"Q43099500\"]\"\"\"\n",
    "#object_classes = \"\"\"[\"Q120544\", \"Q215627\", \"Q26401003\", \"Q95074\"]\"\"\"\n",
    "\n",
    "files = [\"derived.isa.tsv.gz\",\"derived.P31.tsv.gz\",\"derived.P279star.tsv.gz\",\"derived.P279.tsv.gz\"]\n",
    "for file in files:\n",
    "    os.environ[file] = file\n",
    "ck = ConfigureKGTK(files)\n",
    "ck.configure_kgtk(input_graph_path=input_path,\n",
    "                  output_path=output_path,\n",
    "                  project_name=project_name)\n",
    "ck.print_env_variables()\n",
    "#ck.load_files_into_cache()"
   ]
  },
  {
   "cell_type": "code",
   "execution_count": 3,
   "id": "feaf7434",
   "metadata": {
    "scrolled": true
   },
   "outputs": [
    {
     "name": "stderr",
     "output_type": "stream",
     "text": [
      "kgtk: received KeyboardInterrupt\n"
     ]
    },
    {
     "name": "stdout",
     "output_type": "stream",
     "text": [
      "[2022-02-17 19:16:20 sqlstore]: IMPORT graph directly into table graph_1 from /out/data/propertiesSplit_Final/claims.P39.tsv ...\n",
      "[2022-02-17 19:16:30 sqlstore]: IMPORT graph directly into table graph_2 from /out/derived.isa.tsv.gz ...\n",
      "[2022-02-17 19:18:58 sqlstore]: IMPORT graph directly into table graph_3 from /out/derived.P279star.tsv.gz ...\n",
      "\n"
     ]
    }
   ],
   "source": [
    "kgtk(f\"\"\"--debug query -i \n",
    "/out/data/propertiesSplit_Final/claims.{property_id}.tsv  \n",
    "/out/derived.isa.tsv.gz         \n",
    "/out/derived.P279star.tsv.gz         \n",
    "--match 'm: (node1)-[nodeProp]->(node2), isa: (node2)-[]->(nodex), P279star: (nodex)-[]->(par)'\n",
    "--where 'par in {object_classes} '      \n",
    "--return 'distinct nodeProp.id, node1 as `node1`, nodeProp.label as `label`, node2 as `node2`'    \n",
    "-o /out/output/allConstraintsAnalysis_Final/valueTypeConstraint/normal/claims.type-constraints.instanceOfOrSubclass.{property_id}.correct_temp.tsv \n",
    "\"\"\")"
   ]
  },
  {
   "cell_type": "code",
   "execution_count": null,
   "id": "b4f3d823",
   "metadata": {},
   "outputs": [],
   "source": [
    "kgtk(f\"\"\"--debug ifnotexists -i /out/data/propertiesSplit_Final/claims.{property_id}.tsv   \n",
    "--filter-on /out/output/allConstraintsAnalysis_Final/valueTypeConstraint/normal/claims.type-constraints.instanceOfOrSubclass.{property_id}.correct_temp.tsv    \n",
    "-o /out/output/allConstraintsAnalysis_Final/valueTypeConstraint/normal/claims.type-constraints.instanceOfOrSubclass.{property_id}.incorrect_temp.tsv ;\"\"\")"
   ]
  },
  {
   "cell_type": "code",
   "execution_count": null,
   "id": "730b5128",
   "metadata": {},
   "outputs": [],
   "source": [
    "kgtk(f\"\"\"--debug query -i /out/output/allConstraintsAnalysis_Final/valueTypeConstraint/normal/claims.type-constraints.instanceOfOrSubclass.{property_id}.incorrect_temp.tsv  \n",
    "/out/derived.isa.tsv.gz        \n",
    "--match 'm: (node1)-[nodeProp]->(node2), isa: (node2)-[]->(par)'    \n",
    "--where 'par in {object_classes} '     \n",
    "--return 'distinct nodeProp.id, node1 as `node1`, nodeProp.label as `label`, node2 as `node2`'   \n",
    "-o /out/output/allConstraintsAnalysis_Final/valueTypeConstraint/normal/claims.type-constraints.instanceOfOrSubclass.{property_id}.correct_temp2.tsv\"\"\")   "
   ]
  },
  {
   "cell_type": "code",
   "execution_count": null,
   "id": "171cfbb9",
   "metadata": {},
   "outputs": [],
   "source": [
    "kgtk(f\"\"\"--debug ifnotexists -i /out/output/allConstraintsAnalysis_Final/valueTypeConstraint/normal/claims.type-constraints.instanceOfOrSubclass.{property_id}.incorrect_temp.tsv   \n",
    "--filter-on /out/output/allConstraintsAnalysis_Final/valueTypeConstraint/normal/claims.type-constraints.instanceOfOrSubclass.{property_id}.correct_temp2.tsv    \n",
    "-o /out/output/allConstraintsAnalysis_Final/valueTypeConstraint/normal/claims.type-constraints.instanceOfOrSubclass.{property_id}.incorrect.tsv ;\"\"\") "
   ]
  },
  {
   "cell_type": "code",
   "execution_count": null,
   "id": "a4c6ddfc",
   "metadata": {},
   "outputs": [],
   "source": [
    "kgtk(f\"\"\"--debug cat -i /out/output/allConstraintsAnalysis_Final/valueTypeConstraint/normal/claims.type-constraints.instanceOfOrSubclass.{property_id}.correct_temp.tsv     \n",
    "/out/output/allConstraintsAnalysis_Final/valueTypeConstraint/normal/claims.type-constraints.instanceOfOrSubclass.{property_id}.correct_temp2.tsv     \n",
    "-o /out/output/allConstraintsAnalysis_Final/valueTypeConstraint/normal/claims.type-constraints.instanceOfOrSubclass.{property_id}.correct.tsv ;    \n",
    "\"\"\")"
   ]
  },
  {
   "cell_type": "code",
   "execution_count": null,
   "id": "36b51163",
   "metadata": {},
   "outputs": [],
   "source": [
    "kgtk(f\"\"\"--debug query -i /out/data/propertiesSplit_Final/claims.{property_id}.tsv \n",
    "/out/derived.P31.tsv.gz      \n",
    "/out/derived.P279star.tsv.gz      \n",
    "--match 'm: (node1)-[nodeProp]->(node2), P31: (node1)-[]->(nodex), P279star: (nodex)-[]->(par)'       \n",
    "--where 'par in {subject_classes} '       \n",
    "--return 'distinct nodeProp.id, node1 as `node1`, nodeProp.label as `label`, node2 as `node2`'  \n",
    "-o /out/output/allConstraintsAnalysis_Final/typeConstraint/normal/claims.type-constraints.instanceOf.{property_id}.correct_temp.tsv\"\"\")"
   ]
  },
  {
   "cell_type": "code",
   "execution_count": null,
   "id": "8c8e8bcd",
   "metadata": {},
   "outputs": [],
   "source": [
    "kgtk(f\"\"\"--debug ifnotexists -i /out/data/propertiesSplit_Final/claims.{property_id}.tsv  \n",
    "--filter-on /out/output/allConstraintsAnalysis_Final/typeConstraint/normal/claims.type-constraints.instanceOf.{property_id}.correct_temp.tsv       \n",
    "-o /out/output/allConstraintsAnalysis_Final/typeConstraint/normal/claims.type-constraints.instanceOf.{property_id}.incorrect_temp.tsv ;\"\"\")"
   ]
  },
  {
   "cell_type": "code",
   "execution_count": null,
   "id": "a6a200e2",
   "metadata": {},
   "outputs": [],
   "source": [
    "kgtk(f\"\"\"--debug query -i /out/output/allConstraintsAnalysis_Final/typeConstraint/normal/claims.type-constraints.instanceOf.{property_id}.incorrect_temp.tsv   \n",
    "/out/derived.P31.tsv.gz  \n",
    "--match 'm: (node1)-[nodeProp]->(node2), P31: (node1)-[]->(par)'    \n",
    "--where 'par in {subject_classes} '     \n",
    "--return 'distinct nodeProp.id, node1 as `node1`, nodeProp.label as `label`, node2 as `node2`'      \n",
    "-o /out/output/allConstraintsAnalysis_Final/typeConstraint/normal/claims.type-constraints.instanceOf.{property_id}.correct_temp2.tsv\"\"\")"
   ]
  },
  {
   "cell_type": "code",
   "execution_count": null,
   "id": "8b376330",
   "metadata": {},
   "outputs": [],
   "source": [
    "kgtk(f\"\"\"--debug ifnotexists -i /out/output/allConstraintsAnalysis_Final/typeConstraint/normal/claims.type-constraints.instanceOf.{property_id}.incorrect_temp.tsv      \n",
    "--filter-on /out/output/allConstraintsAnalysis_Final/typeConstraint/normal/claims.type-constraints.instanceOf.{property_id}.correct_temp2.tsv     \n",
    "-o /out/output/allConstraintsAnalysis_Final/typeConstraint/normal/claims.type-constraints.instanceOf.{property_id}.incorrect.tsv ;\"\"\")"
   ]
  },
  {
   "cell_type": "code",
   "execution_count": null,
   "id": "dabe5d49",
   "metadata": {},
   "outputs": [],
   "source": [
    "kgtk(f\"\"\"--debug cat -i /out/output/allConstraintsAnalysis_Final/typeConstraint/normal/claims.type-constraints.instanceOf.{property_id}.correct_temp.tsv     \n",
    "/out/output/allConstraintsAnalysis_Final/typeConstraint/normal/claims.type-constraints.instanceOf.{property_id}.correct_temp2.tsv       \n",
    "-o /out/output/allConstraintsAnalysis_Final/typeConstraint/normal/claims.type-constraints.instanceOf.{property_id}.correct.tsv ;\"\"\")"
   ]
  },
  {
   "cell_type": "code",
   "execution_count": null,
   "id": "4c1139a5",
   "metadata": {},
   "outputs": [],
   "source": [
    "# get instances of all P161 subjects\n",
    "kgtk(f\"\"\"--debug query -i \n",
    "/out/data/propertiesSplit_Final/claims.{property_id}.tsv  \n",
    "/out/derived.isa.tsv.gz         \n",
    "--match 'm: (node1)-[nodeProp]->(node2), isa: (node1)-[]->(nodex)'\n",
    "--return 'distinct node1 as `instance`, nodex as `class`'    \n",
    "-o /out/output/allConstraintsAnalysis_Final/instances/instances.subjects.{property_id}.tsv \n",
    "\"\"\")\n",
    "\n",
    "# get instances of all P161 objects\n",
    "kgtk(f\"\"\"--debug query -i \n",
    "/out/data/propertiesSplit_Final/claims.{property_id}.tsv  \n",
    "/out/derived.isa.tsv.gz         \n",
    "--match 'm: (node1)-[nodeProp]->(node2), isa: (node2)-[]->(nodex)'\n",
    "--return 'distinct node2 as `instance`, nodex as `class`'    \n",
    "-o /out/output/allConstraintsAnalysis_Final/instances/instances.objects.{property_id}.tsv \n",
    "\"\"\")"
   ]
  },
  {
   "cell_type": "code",
   "execution_count": null,
   "id": "45d99e95",
   "metadata": {},
   "outputs": [],
   "source": [
    "# get direct subclass of all P161 subjects\n",
    "kgtk(f\"\"\"--debug query -i \n",
    "/out/data/propertiesSplit_Final/claims.{property_id}.tsv  \n",
    "/out/derived.P279.tsv.gz         \n",
    "--match 'm: (node1)-[nodeProp]->(node2), P279: (node1)-[]->(nodex)'\n",
    "--return 'distinct node1 as `instance`, nodex as `class`'    \n",
    "-o /out/output/allConstraintsAnalysis_Final/subclasses/subclasses.subjects.{property_id}.tsv \n",
    "\"\"\")\n",
    "\n",
    "# get direct subclass of all P161 objects\n",
    "kgtk(f\"\"\"--debug query -i \n",
    "/out/data/propertiesSplit_Final/claims.{property_id}.tsv  \n",
    "/out/derived.P279.tsv.gz         \n",
    "--match 'm: (node1)-[nodeProp]->(node2), P279: (node2)-[]->(nodex)'\n",
    "--return 'distinct node2 as `instance`, nodex as `class`'    \n",
    "-o /out/output/allConstraintsAnalysis_Final/subclasses/subclasses.objects.{property_id}.tsv \n",
    "\"\"\")"
   ]
  },
  {
   "cell_type": "code",
   "execution_count": null,
   "id": "494654de",
   "metadata": {},
   "outputs": [],
   "source": []
  }
 ],
 "metadata": {
  "kernelspec": {
   "display_name": "Python 3 (ipykernel)",
   "language": "python",
   "name": "python3"
  },
  "language_info": {
   "codemirror_mode": {
    "name": "ipython",
    "version": 3
   },
   "file_extension": ".py",
   "mimetype": "text/x-python",
   "name": "python",
   "nbconvert_exporter": "python",
   "pygments_lexer": "ipython3",
   "version": "3.9.7"
  }
 },
 "nbformat": 4,
 "nbformat_minor": 5
}
