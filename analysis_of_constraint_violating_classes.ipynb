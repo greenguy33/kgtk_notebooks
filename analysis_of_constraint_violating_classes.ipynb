{
 "cells": [
  {
   "cell_type": "markdown",
   "id": "91365196",
   "metadata": {},
   "source": [
    "This notebook contains two queries that, given a Wikidata proprety as input, builds a list of the assigned classes, English labels, and outgoing properties for all subjects and objects that are causing a constraint violation of the given property. Label and assigned classes (P31) are searched as Optionals so that blank results are also returned."
   ]
  },
  {
   "cell_type": "code",
   "execution_count": 1,
   "id": "27a51fc1",
   "metadata": {},
   "outputs": [],
   "source": [
    "import os\n",
    "import csv\n",
    "import numpy as np\n",
    "import pandas as pd\n",
    "\n",
    "from kgtk.configure_kgtk_notebooks import ConfigureKGTK\n",
    "from kgtk.functions import kgtk, kypher"
   ]
  },
  {
   "cell_type": "code",
   "execution_count": 11,
   "id": "85539c2b",
   "metadata": {},
   "outputs": [
    {
     "name": "stdout",
     "output_type": "stream",
     "text": [
      "User home: /home/jovyan\n",
      "Current dir: /kgtk/move_me\n",
      "KGTK dir: /kgtk\n",
      "Use-cases dir: /kgtk/use-cases\n"
     ]
    }
   ],
   "source": [
    "input_path = \"/out/data\"\n",
    "output_path = \"output\"\n",
    "project_name = \"p161_notebook\"\n",
    "\n",
    "# set property ID here\n",
    "property_id = \"P50\"\n",
    "\n",
    "files = [f\"claims.{property_id}\", f\"labels.subjects.{property_id}\", f\"instances.subjects.{property_id}.tsv\"]\n",
    "ck = ConfigureKGTK(files)\n",
    "ck.configure_kgtk(input_graph_path=input_path,\n",
    "                  output_path=output_path,\n",
    "                  project_name=project_name)\n",
    "#ck.print_env_variables()\n",
    "#ck.load_files_into_cache()"
   ]
  },
  {
   "cell_type": "code",
   "execution_count": 12,
   "id": "640608a6",
   "metadata": {},
   "outputs": [
    {
     "name": "stdout",
     "output_type": "stream",
     "text": [
      "[2022-01-06 19:48:53 sqlstore]: IMPORT graph directly into table graph_16 from /out/output/allConstraintsAnalysis_Final/typeConstraint/normal/claims.type-constraints.instanceOf.P50.incorrect.tsv ...\n",
      "[2022-01-06 19:48:53 query]: SQL Translation:\n",
      "---------------------------------------------\n",
      "  SELECT DISTINCT graph_16_c1.\"node1\" \"_aLias.node1\", graph_9_c2.\"node2\" \"_aLias.label\", graph_10_c3.\"node2\" \"_aLias.instanceOf\", graph_11_c4.\"node2\" \"_aLias.otherConn\"\n",
      "     FROM graph_16 AS graph_16_c1\n",
      "     LEFT JOIN graph_9 AS graph_9_c2\n",
      "     ON graph_16_c1.\"node1\" = graph_9_c2.\"node1\"\n",
      "        AND graph_9_c2.\"label\" = ?\n",
      "     LEFT JOIN graph_10 AS graph_10_c3\n",
      "     ON graph_16_c1.\"node1\" = graph_10_c3.\"node1\"\n",
      "        AND graph_10_c3.\"label\" = ?\n",
      "     LEFT JOIN graph_11 AS graph_11_c4\n",
      "     ON graph_16_c1.\"node1\" = graph_11_c4.\"node1\"\n",
      "  PARAS: ['label', 'P31']\n",
      "---------------------------------------------\n",
      "[2022-01-06 19:48:53 sqlstore]: CREATE INDEX \"graph_16_node1_idx\" ON \"graph_16\" (\"node1\")\n",
      "[2022-01-06 19:48:53 sqlstore]: ANALYZE \"graph_16_node1_idx\"\n",
      "\n"
     ]
    }
   ],
   "source": [
    "kgtk(f\"\"\"--debug query \n",
    "-i /out/output/allConstraintsAnalysis_Final/typeConstraint/normal/claims.type-constraints.instanceOf.{property_id}.incorrect.tsv --as typeClaims_{property_id}\n",
    "-i /out/labels.en.tsv.gz --as labels2\n",
    "-i /out/derived.P31.tsv.gz --as instances2\n",
    "-i /out/claims.wikibase-item.tsv.gz --as wikibase\n",
    "--match 'typeClaims_{property_id}: (node1)-[nodeProp]->(node2)'\n",
    "--opt 'labels2: (node1)-[:label]->(lb)'\n",
    "--opt 'instances2: (node1)-[:P31]->(inst)'\n",
    "--opt 'wikibase: (node1)-[someProp]->(someNode)'\n",
    "--return 'distinct node1 as `node1`, lb as `label`, inst as `instanceOf`, someNode as `otherConn`'\n",
    "-o /out/output/allConstraintsAnalysis_Final/missing_instances/missing_labels.subjects.{property_id}.tsv \n",
    "\"\"\")"
   ]
  },
  {
   "cell_type": "code",
   "execution_count": 13,
   "id": "2d824b9c",
   "metadata": {},
   "outputs": [
    {
     "name": "stdout",
     "output_type": "stream",
     "text": [
      "[2022-01-06 19:49:02 sqlstore]: IMPORT graph directly into table graph_17 from /out/output/allConstraintsAnalysis_Final/valueTypeConstraint/normal/claims.type-constraints.instanceOfOrSubclass.P50.incorrect.tsv ...\n",
      "[2022-01-06 19:49:03 query]: SQL Translation:\n",
      "---------------------------------------------\n",
      "  SELECT DISTINCT graph_17_c1.\"node2\" \"_aLias.node2\", graph_9_c2.\"node2\" \"_aLias.label\", graph_10_c3.\"node2\" \"_aLias.instanceOf\", graph_11_c4.\"node2\" \"_aLias.otherConn\"\n",
      "     FROM graph_17 AS graph_17_c1\n",
      "     LEFT JOIN graph_9 AS graph_9_c2\n",
      "     ON graph_17_c1.\"node2\" = graph_9_c2.\"node1\"\n",
      "        AND graph_9_c2.\"label\" = ?\n",
      "     LEFT JOIN graph_10 AS graph_10_c3\n",
      "     ON graph_17_c1.\"node2\" = graph_10_c3.\"node1\"\n",
      "        AND graph_10_c3.\"label\" = ?\n",
      "     LEFT JOIN graph_11 AS graph_11_c4\n",
      "     ON graph_17_c1.\"node2\" = graph_11_c4.\"node1\"\n",
      "  PARAS: ['label', 'P31']\n",
      "---------------------------------------------\n",
      "[2022-01-06 19:49:03 sqlstore]: CREATE INDEX \"graph_17_node2_idx\" ON \"graph_17\" (\"node2\")\n",
      "[2022-01-06 19:49:03 sqlstore]: ANALYZE \"graph_17_node2_idx\"\n",
      "\n"
     ]
    }
   ],
   "source": [
    "kgtk(f\"\"\"--debug query \n",
    "-i /out/output/allConstraintsAnalysis_Final/valueTypeConstraint/normal/claims.type-constraints.instanceOfOrSubclass.{property_id}.incorrect.tsv --as valueTypeClaims_{property_id}\n",
    "-i /out/labels.en.tsv.gz --as labels2\n",
    "-i /out/derived.P31.tsv.gz --as instances2\n",
    "-i /out/claims.wikibase-item.tsv.gz --as wikibase\n",
    "--match 'valueTypeClaims_{property_id}: (node1)-[nodeProp]->(node2)'\n",
    "--opt 'labels2: (node2)-[:label]->(lb)'\n",
    "--opt 'instances2: (node2)-[:P31]->(inst)'\n",
    "--opt 'wikibase: (node2)-[someProp]->(someNode)'\n",
    "--return 'distinct node2 as `node2`, lb as `label`, inst as `instanceOf`, someNode as `otherConn`'\n",
    "-o /out/output/allConstraintsAnalysis_Final/missing_instances/missing_labels.objects.{property_id}.tsv \n",
    "\"\"\")"
   ]
  },
  {
   "cell_type": "code",
   "execution_count": null,
   "id": "1f16e8e1",
   "metadata": {},
   "outputs": [],
   "source": []
  }
 ],
 "metadata": {
  "kernelspec": {
   "display_name": "Python 3 (ipykernel)",
   "language": "python",
   "name": "python3"
  },
  "language_info": {
   "codemirror_mode": {
    "name": "ipython",
    "version": 3
   },
   "file_extension": ".py",
   "mimetype": "text/x-python",
   "name": "python",
   "nbconvert_exporter": "python",
   "pygments_lexer": "ipython3",
   "version": "3.9.7"
  }
 },
 "nbformat": 4,
 "nbformat_minor": 5
}
