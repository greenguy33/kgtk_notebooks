{
 "cells": [
  {
   "cell_type": "code",
   "execution_count": 95,
   "metadata": {},
   "outputs": [
    {
     "name": "stdout",
     "output_type": "stream",
     "text": [
      "distinct classes:  1250\n",
      "retrieving correct answers...\n",
      "retrieving scores...\n",
      "final avg. score:  0.996\n"
     ]
    }
   ],
   "source": [
    "import csv\n",
    "import statistics\n",
    "\n",
    "dis_class = set()\n",
    "tsv_file = open('../output/instance_prediction_datasets/P161.objects.1250.tsv',encoding=\"utf-8\")\n",
    "read_tsv = csv.reader(tsv_file, delimiter=\"\\t\")\n",
    "next(read_tsv)\n",
    "for line in read_tsv:\n",
    "    dis_class.add(line[0])\n",
    "print(\"distinct classes: \", len(dis_class))\n",
    "\n",
    "print(\"retrieving correct answers...\")\n",
    "correct_answers = getCorrectAnswers(list(dis_class))\n",
    "guesses = {}\n",
    "for elem in dis_class:\n",
    "    guesses[elem] = \"Q5\"\n",
    "\n",
    "print(\"retrieving scores...\")\n",
    "scores = []\n",
    "for elem in guesses:\n",
    "    this_score = score(guesses[elem], correct_answers[elem])\n",
    "    scores.append(this_score)\n",
    "print(\"final avg. score: \", statistics.mean(scores))"
   ]
  },
  {
   "cell_type": "code",
   "execution_count": 23,
   "metadata": {},
   "outputs": [],
   "source": [
    "# score P31 datasets\n",
    "import csv\n",
    "\n",
    "direct_subclasses = {}\n",
    "direct_superclasses = {}\n",
    "\n",
    "tsv_file = open('../derived.P279.tsv/derived.P279.tsv',encoding=\"utf-8\")\n",
    "read_tsv = csv.reader(tsv_file, delimiter=\"\\t\")\n",
    "next(read_tsv)\n",
    "for line in read_tsv:\n",
    "    if line[1] not in direct_superclasses:\n",
    "        direct_superclasses[line[1]] = [line[3]]\n",
    "    else:\n",
    "        direct_superclasses[line[1]].append(line[3])\n",
    "    if line[3] not in direct_subclasses:\n",
    "        direct_subclasses[line[3]] = [line[1]]\n",
    "    else:\n",
    "        direct_subclasses[line[3]].append(line[1])"
   ]
  },
  {
   "cell_type": "code",
   "execution_count": 93,
   "metadata": {},
   "outputs": [],
   "source": [
    "import mmap\n",
    "\n",
    "def getCorrectAnswers(candidates):\n",
    "    answers = {}\n",
    "#     with open('../derived.P31.tsv/derived.P31.tsv',encoding=\"utf-8\") as f:\n",
    "#         s = mmap.mmap(f.fileno(), 0, access=mmap.ACCESS_READ)\n",
    "#         while len(candidates) != 0:\n",
    "#             line = s.readline()\n",
    "#             for candidate in candidates:\n",
    "#                 if str.encode(\"\\t\"+candidate+\"\\t\") in line:\n",
    "#                     str1 = line.decode(\"utf-8\")\n",
    "#                     split = str1.split(\"\\t\")\n",
    "#                     answer = split[-1].split(\"\\n\")[0]\n",
    "#                     answers[candidate] = answer\n",
    "#                     candidates.remove(candidate)\n",
    "    tsv_file = open('../output/allConstraintsAnalysis_Final/instances/instances.objects.P161.tsv', encoding=\"utf-8\")\n",
    "    read_tsv = csv.reader(tsv_file, delimiter=\"\\t\")\n",
    "    for line in read_tsv:\n",
    "        answers[line[0]] = line[1]\n",
    "    return answers"
   ]
  },
  {
   "cell_type": "code",
   "execution_count": 77,
   "metadata": {},
   "outputs": [],
   "source": [
    "def score (guess, correct):\n",
    "    if guess == correct: \n",
    "        return 1\n",
    "    else:\n",
    "        subclasses = []\n",
    "        superclasses = []\n",
    "        if guess in direct_subclasses:\n",
    "            subclasses = direct_subclasses[guess]\n",
    "        if guess in direct_superclasses:\n",
    "            superclasses = direct_superclasses[guess]\n",
    "        for i in range(1,6):\n",
    "            new_subclasses = []\n",
    "            new_superclasses = []\n",
    "            for subc in subclasses:\n",
    "                if subc == correct:\n",
    "                    if i <= 3:\n",
    "                        return .7**i\n",
    "                    else:\n",
    "                        return .8**i\n",
    "                else:\n",
    "                    if subc in direct_subclasses:\n",
    "                        for new_sub in direct_subclasses[subc]:\n",
    "                            new_subclasses.append(new_sub)\n",
    "            for supc in superclasses:\n",
    "                if supc == correct:\n",
    "                    if i <= 3:\n",
    "                        return .7**i\n",
    "                    else:\n",
    "                        return .8**i\n",
    "                else:\n",
    "                    if supc in direct_superclasses:\n",
    "                        for new_sup in direct_superclasses[supc]:\n",
    "                            new_superclasses.append(new_sup)\n",
    "            subclasses = new_subclasses\n",
    "            superclasses = new_superclasses\n",
    "    return 0"
   ]
  }
 ],
 "metadata": {
  "kernelspec": {
   "display_name": "Python 3",
   "language": "python",
   "name": "python3"
  },
  "language_info": {
   "codemirror_mode": {
    "name": "ipython",
    "version": 3
   },
   "file_extension": ".py",
   "mimetype": "text/x-python",
   "name": "python",
   "nbconvert_exporter": "python",
   "pygments_lexer": "ipython3",
   "version": "3.8.0"
  }
 },
 "nbformat": 4,
 "nbformat_minor": 4
}
