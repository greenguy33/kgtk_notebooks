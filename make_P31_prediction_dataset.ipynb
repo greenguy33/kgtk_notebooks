{
 "cells": [
  {
   "cell_type": "code",
   "execution_count": null,
   "id": "7a281558",
   "metadata": {},
   "outputs": [],
   "source": [
    "import csv\n",
    "import random\n",
    "import os\n",
    "property_label = \"P19\"\n",
    "orientation = \"objects\""
   ]
  },
  {
   "cell_type": "code",
   "execution_count": null,
   "id": "dc110010",
   "metadata": {},
   "outputs": [],
   "source": [
    "# load all instances\n",
    "instances = {}\n",
    "tsv_file = open(f'../output/allConstraintsAnalysis_Final/instances/instances.{orientation}.{property_label}.tsv', encoding=\"utf-8\")\n",
    "read_tsv = csv.reader(tsv_file, delimiter=\"\\t\")\n",
    "for line in read_tsv:\n",
    "    if line[0] not in instances:\n",
    "        instances[line[0]] = [line[1]]\n",
    "    else:\n",
    "        instances[line[0]].append(line[1])\n",
    "print(len(instances))"
   ]
  },
  {
   "cell_type": "code",
   "execution_count": null,
   "id": "021c7213",
   "metadata": {},
   "outputs": [],
   "source": [
    "# make file with relevant transE embeddings\n",
    "\n",
    "transEheader = ['Qnode']\n",
    "for i in range(0,100):\n",
    "    transEheader.append(\"pos\"+str(i))\n",
    "transEheader.append(\"Yval\")\n",
    "\n",
    "with open(f\"../embeddings/profile_graph_embeddings.transE.tsv\", encoding=\"utf-8\") as in_file, open(f\"../output/instance_prediction_datasets/250000/{property_label}.{orientation}.transE.training.tsv\", \"w\", encoding=\"utf-8\", newline='') as out_file:\n",
    "    tsv_reader = csv.reader(in_file, delimiter=\"\\t\")\n",
    "    tsv_writer = csv.writer(out_file, delimiter=\"\\t\")\n",
    "    next(tsv_reader)\n",
    "    tsv_writer.writerow(transEheader)\n",
    "    for line in tsv_reader:\n",
    "        if line[0] in instances:\n",
    "            this_arr = []\n",
    "            for elem in line:\n",
    "                this_arr.append(elem)\n",
    "            # randomly select one of the possible instances to use in the training data\n",
    "            this_arr.append(random.choice(instances[line[0]]))\n",
    "            tsv_writer.writerow(this_arr)\n",
    "            break"
   ]
  },
  {
   "cell_type": "code",
   "execution_count": null,
   "id": "c31c9102",
   "metadata": {},
   "outputs": [],
   "source": [
    "# fit autogluon models\n",
    "all_data = TabularDataset(f\"../output/instance_prediction_datasets/250000/{property_label}.{orientation}.transE.training.tsv\")\n",
    "print(int(len(all_data)*.75))\n",
    "train_data = all_data[:int(len(all_data)*.75)]\n",
    "test_data = all_data[int(len(all_data)*.75):]\n",
    "save_path = f'../embeddings/models/agModels.{property_label}.{orientation}.transE'\n",
    "label = 'Yval'\n",
    "print(\"Summary of class variable: \\n\", train_data[label].describe())\n",
    "predictor = TabularPredictor(label=label, path=save_path).fit(train_data, hyperparameters={'NN':{},'GBM':{},'XT':{},'KNN':{}})"
   ]
  },
  {
   "cell_type": "code",
   "execution_count": null,
   "id": "2b91b3a1",
   "metadata": {},
   "outputs": [],
   "source": [
    "# get best predictor and show leaderboard\n",
    "# save_path = f'../embeddings/models/agModels.{property_label}.{orientation}.transE.synchronized.250000'\n",
    "# predictor = TabularPredictor.load(save_path)\n",
    "y_test = test_data[label]\n",
    "test_data_nolab = test_data.drop(columns=[label])\n",
    "print(predictor.get_model_best())\n",
    "y_pred = predictor.predict(test_data_nolab)\n",
    "perf = predictor.evaluate_predictions(y_true=y_test, y_pred=y_pred, auxiliary_metrics=True)\n",
    "predictor.leaderboard(test_data, silent=True)"
   ]
  }
 ],
 "metadata": {
  "kernelspec": {
   "display_name": "Python 3",
   "language": "python",
   "name": "python3"
  },
  "language_info": {
   "codemirror_mode": {
    "name": "ipython",
    "version": 3
   },
   "file_extension": ".py",
   "mimetype": "text/x-python",
   "name": "python",
   "nbconvert_exporter": "python",
   "pygments_lexer": "ipython3",
   "version": "3.8.0"
  }
 },
 "nbformat": 4,
 "nbformat_minor": 5
}
